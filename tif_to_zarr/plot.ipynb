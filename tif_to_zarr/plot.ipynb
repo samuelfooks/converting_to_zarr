{
 "cells": [
  {
   "cell_type": "markdown",
   "metadata": {},
   "source": [
    "### Check Conversion\n",
    "\n",
    "In this Notebook we will do a basic data quality check of the conversion, we will also see the immense difference in speed and data accessibility between geodatabases(standard geospatial datastructures) and ARCO formats.\n",
    "\n",
    "The ability to subset specifically what we are looking for, and where we are looking for it without having to download a whole zip file and then open a larger vector dataset."
   ]
  },
  {
   "cell_type": "code",
   "execution_count": 1,
   "metadata": {},
   "outputs": [],
   "source": [
    "import matplotlib.pyplot as plt\n",
    "import cartopy.crs as ccrs\n",
    "import numpy as np\n",
    "import random\n",
    "from shapely.geometry import Point\n",
    "import xarray as xr\n",
    "import rasterio\n",
    "from rasterstats import zonal_stats"
   ]
  },
  {
   "cell_type": "code",
   "execution_count": 2,
   "metadata": {},
   "outputs": [],
   "source": [
    "# Open GeoTIFF\n",
    "with rasterio.open('zipfiles/baltic_secchi_disk_depth_ratio/baltic_secchi_disk_depth_ratio.tif') as src:\n",
    "    img = src.read(1)"
   ]
  },
  {
   "cell_type": "code",
   "execution_count": 3,
   "metadata": {},
   "outputs": [
    {
     "name": "stdout",
     "output_type": "stream",
     "text": [
      "<xarray.DataArray 'secchi_disk_water_depth_ratio' (latitude: 8321,\n",
      "                                                   longitude: 22043)> Size: 1GB\n",
      "dask.array<getitem, shape=(8321, 22043), dtype=float64, chunksize=(200, 200), chunktype=numpy.ndarray>\n",
      "Coordinates:\n",
      "    band       int64 8B 1\n",
      "  * latitude   (latitude) float64 67kB 48.53 48.53 48.53 ... 66.57 66.57 66.57\n",
      "  * longitude  (longitude) float64 176kB -13.45 -13.45 -13.45 ... 34.34 34.34\n",
      "Attributes:\n",
      "    AREA_OR_POINT:           Area\n",
      "    STATISTICS_COVARIANCES:  45.2653131290138\n",
      "    STATISTICS_MAXIMUM:      1115.955078125\n",
      "    STATISTICS_MEAN:         8.5584246713118\n",
      "    STATISTICS_MINIMUM:      -1409.4304199219\n",
      "    STATISTICS_STDDEV:       6.7279501431724\n",
      "    grid_mapping:            spatial_ref\n"
     ]
    }
   ],
   "source": [
    "# Open zarr dataset\n",
    "ds = xr.open_zarr('secchi_disk_water_depth_ratio.zarr')\n",
    "# Choose secchi_disk_water_depth_ratio variable\n",
    "var = ds['secchi_disk_water_depth_ratio'].sel(band=1)\n",
    "print(var)"
   ]
  },
  {
   "cell_type": "markdown",
   "metadata": {},
   "source": [
    "### Compare Geotiff with Zarr"
   ]
  },
  {
   "cell_type": "code",
   "execution_count": 4,
   "metadata": {},
   "outputs": [],
   "source": [
    "# Create a boolean mask where the variable is not NaN\n",
    "mask = ~np.isnan(var.values)\n",
    "\n",
    "fig, ax = plt.subplots(figsize=(10, 10), subplot_kw={'projection': ccrs.PlateCarree()})\n",
    "ax.coastlines()\n",
    "ax.imshow(mask, origin='lower', transform=ccrs.PlateCarree(), cmap='gray', alpha=0.5, \n",
    "          extent=[var['longitude'].min(), var['longitude'].max(), var['latitude'].min(), var['latitude'].max()])\n",
    "\n",
    "idx = np.where(~np.isnan(var.values))\n",
    "lat_idx = idx[0]\n",
    "lon_idx = idx[1]\n",
    "# Choose a random index from the length of idx[0]\n",
    "random_index = np.random.choice(len(idx[0]))\n",
    "# Use the random index to get corresponding latitude and longitude\n",
    "lat_start1 = var['latitude'].values[lat_idx[random_index]]\n",
    "lon_start1 = var['longitude'].values[lon_idx[random_index]]"
   ]
  },
  {
   "cell_type": "code",
   "execution_count": null,
   "metadata": {},
   "outputs": [],
   "source": [
    "# Reduce the size of the circle if necessary\n",
    "circle = Point(lon_start1, lat_start1).buffer(0.1)  # Adjust the buffer size as needed\n",
    "# Add a circle to highlight the slice\n",
    "circle_patch = plt.Polygon(np.array(circle.exterior.xy).T, facecolor='red', edgecolor='black', lw=2)\n",
    "ax.add_patch(circle_patch)\n",
    "\n",
    "# Zoom in to the circle\n",
    "ax.set_xlim([lon_start1 - 10, lon_start1 + 10])\n",
    "ax.set_ylim([lat_start1 - 10, lat_start1 + 10])\n",
    "\n",
    "plt.show()"
   ]
  },
  {
   "cell_type": "code",
   "execution_count": null,
   "metadata": {},
   "outputs": [],
   "source": [
    "# Plot the same circle on the GeoTIFF and look for the mode of values in that circle buffer\n",
    "\n",
    "# Intersect the circle with the GeoTIFF\n",
    "stats = zonal_stats(circle, img, affine=src.transform, stats=\"majority\")\n",
    "\n",
    "majority_value = stats[0]['majority']\n",
    "\n",
    "print(majority_value)\n",
    "print(f\"The majority of the data inside the circle is: {majority_value}\")\n",
    "\n",
    "fig, ax = plt.subplots(figsize=(10, 15), subplot_kw={'projection': ccrs.PlateCarree()})\n",
    "ax.imshow(np.flipud(img), cmap='gray', origin='lower', extent=[src.bounds.left, src.bounds.right, src.bounds.bottom, src.bounds.top])\n",
    "ax.coastlines()\n",
    "\n",
    "# Add a circle to highlight the slice\n",
    "circle_patch = plt.Polygon(np.array(circle.exterior.xy).T, facecolor='red', edgecolor='black', lw=2)\n",
    "ax.add_patch(circle_patch)\n",
    "\n",
    "# Zoom in to the circle\n",
    "ax.set_xlim([lon_start1 - 10, lon_start1 + 10])\n",
    "ax.set_ylim([lat_start1 - 10, lat_start1 + 10])\n",
    "\n",
    "plt.show()"
   ]
  },
  {
   "cell_type": "code",
   "execution_count": null,
   "metadata": {},
   "outputs": [],
   "source": [
    "# Get the value from the Zarr dataset at the chosen point\n",
    "zarr_value = var.sel(latitude=lat_start1, longitude=lon_start1).values\n",
    "print(f\"Zarr value at the point ({lon_start1}, {lat_start1}): {zarr_value}\")"
   ]
  },
  {
   "cell_type": "code",
   "execution_count": null,
   "metadata": {},
   "outputs": [],
   "source": [
    "# Get the value from the GeoTIFF at the chosen point\n",
    "row, col = src.index(lon_start1, lat_start1)\n",
    "tif_value = img[row, col]\n",
    "print(f\"GeoTIFF value at the point ({lon_start1}, {lat_start1}): {tif_value}\")"
   ]
  },
  {
   "cell_type": "code",
   "execution_count": null,
   "metadata": {},
   "outputs": [],
   "source": [
    "# Compare the values\n",
    "if np.isclose(zarr_value, tif_value):\n",
    "    print(\"The values from the Zarr dataset and the GeoTIFF file at the chosen point are the same.\")\n",
    "else:\n",
    "    print(\"The values from the Zarr dataset and the GeoTIFF file at the chosen point are not the same.\")"
   ]
  }
 ],
 "metadata": {
  "kernelspec": {
   "display_name": "Python 3",
   "language": "python",
   "name": "python3"
  },
  "language_info": {
   "codemirror_mode": {
    "name": "ipython",
    "version": 3
   },
   "file_extension": ".py",
   "mimetype": "text/x-python",
   "name": "python",
   "nbconvert_exporter": "python",
   "pygments_lexer": "ipython3",
   "version": "3.10.13"
  }
 },
 "nbformat": 4,
 "nbformat_minor": 4
}
